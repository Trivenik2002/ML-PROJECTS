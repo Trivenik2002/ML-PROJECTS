{
 "cells": [
  {
   "cell_type": "markdown",
   "id": "5235fc27-72dc-4bbb-9b1a-cda70485f951",
   "metadata": {},
   "source": [
    "**PROJECT TITLE:** Predicting Excessive Screen Time Among Youth Using Machine Learning"
   ]
  },
  {
   "cell_type": "markdown",
   "id": "928e7a6d-c7a5-4909-abed-dfcc3744906b",
   "metadata": {},
   "source": [
    "**Project Description:**"
   ]
  },
  {
   "cell_type": "markdown",
   "id": "09663763-5ad8-47c0-9802-426bc36cc317",
   "metadata": {},
   "source": [
    "This project aims to predict whether an individual's screen time exceeds the recommended daily limit using various demographic and behavioral features. Excessive screen time, especially among children and teenagers, is linked to health issues like poor sleep, eye strain, and anxiety. By leveraging machine learning, this system can identify at-risk users and offer valuable insights to promote healthier digital habits."
   ]
  },
  {
   "cell_type": "markdown",
   "id": "db54cbda-7034-461e-9d5b-1f7b20d2ca37",
   "metadata": {},
   "source": [
    "**1.IMPORT REQUIRED LIBRARIES**"
   ]
  },
  {
   "cell_type": "code",
   "execution_count": 1,
   "id": "c6f33152-eb39-464d-9287-e99cc710e2f1",
   "metadata": {},
   "outputs": [],
   "source": [
    "import pandas as pd\n",
    "import numpy as np\n",
    "import matplotlib.pyplot as plt\n",
    "import seaborn as sns\n",
    "from sklearn.preprocessing import LabelEncoder,StandardScaler,MinMaxScaler \n",
    "from sklearn.model_selection import train_test_split\n",
    "from sklearn.linear_model import LogisticRegression"
   ]
  },
  {
   "cell_type": "markdown",
   "id": "ec1af650-75b5-449e-a1fe-cd964d7c1927",
   "metadata": {},
   "source": [
    "**2.DATA COLLECTION**"
   ]
  },
  {
   "cell_type": "code",
   "execution_count": 3,
   "id": "b6fc99c3-044f-4cce-be90-0b68b45f9a9b",
   "metadata": {},
   "outputs": [
    {
     "data": {
      "text/html": [
       "<div>\n",
       "<style scoped>\n",
       "    .dataframe tbody tr th:only-of-type {\n",
       "        vertical-align: middle;\n",
       "    }\n",
       "\n",
       "    .dataframe tbody tr th {\n",
       "        vertical-align: top;\n",
       "    }\n",
       "\n",
       "    .dataframe thead th {\n",
       "        text-align: right;\n",
       "    }\n",
       "</style>\n",
       "<table border=\"1\" class=\"dataframe\">\n",
       "  <thead>\n",
       "    <tr style=\"text-align: right;\">\n",
       "      <th></th>\n",
       "      <th>Age</th>\n",
       "      <th>Gender</th>\n",
       "      <th>Avg_Daily_Screen_Time_hr</th>\n",
       "      <th>Primary_Device</th>\n",
       "      <th>Exceeded_Recommended_Limit</th>\n",
       "      <th>Educational_to_Recreational_Ratio</th>\n",
       "      <th>Health_Impacts</th>\n",
       "      <th>Urban_or_Rural</th>\n",
       "    </tr>\n",
       "  </thead>\n",
       "  <tbody>\n",
       "    <tr>\n",
       "      <th>0</th>\n",
       "      <td>14</td>\n",
       "      <td>Male</td>\n",
       "      <td>3.99</td>\n",
       "      <td>Smartphone</td>\n",
       "      <td>True</td>\n",
       "      <td>0.42</td>\n",
       "      <td>Poor Sleep, Eye Strain</td>\n",
       "      <td>Urban</td>\n",
       "    </tr>\n",
       "    <tr>\n",
       "      <th>1</th>\n",
       "      <td>11</td>\n",
       "      <td>Female</td>\n",
       "      <td>4.61</td>\n",
       "      <td>Laptop</td>\n",
       "      <td>True</td>\n",
       "      <td>0.30</td>\n",
       "      <td>Poor Sleep</td>\n",
       "      <td>Urban</td>\n",
       "    </tr>\n",
       "    <tr>\n",
       "      <th>2</th>\n",
       "      <td>18</td>\n",
       "      <td>Female</td>\n",
       "      <td>3.73</td>\n",
       "      <td>TV</td>\n",
       "      <td>True</td>\n",
       "      <td>0.32</td>\n",
       "      <td>Poor Sleep</td>\n",
       "      <td>Urban</td>\n",
       "    </tr>\n",
       "    <tr>\n",
       "      <th>3</th>\n",
       "      <td>15</td>\n",
       "      <td>Female</td>\n",
       "      <td>1.21</td>\n",
       "      <td>Laptop</td>\n",
       "      <td>False</td>\n",
       "      <td>0.39</td>\n",
       "      <td>NaN</td>\n",
       "      <td>Urban</td>\n",
       "    </tr>\n",
       "    <tr>\n",
       "      <th>4</th>\n",
       "      <td>12</td>\n",
       "      <td>Female</td>\n",
       "      <td>5.89</td>\n",
       "      <td>Smartphone</td>\n",
       "      <td>True</td>\n",
       "      <td>0.49</td>\n",
       "      <td>Poor Sleep, Anxiety</td>\n",
       "      <td>Urban</td>\n",
       "    </tr>\n",
       "    <tr>\n",
       "      <th>...</th>\n",
       "      <td>...</td>\n",
       "      <td>...</td>\n",
       "      <td>...</td>\n",
       "      <td>...</td>\n",
       "      <td>...</td>\n",
       "      <td>...</td>\n",
       "      <td>...</td>\n",
       "      <td>...</td>\n",
       "    </tr>\n",
       "    <tr>\n",
       "      <th>9707</th>\n",
       "      <td>17</td>\n",
       "      <td>Male</td>\n",
       "      <td>3.26</td>\n",
       "      <td>Smartphone</td>\n",
       "      <td>True</td>\n",
       "      <td>0.44</td>\n",
       "      <td>Poor Sleep</td>\n",
       "      <td>Urban</td>\n",
       "    </tr>\n",
       "    <tr>\n",
       "      <th>9708</th>\n",
       "      <td>17</td>\n",
       "      <td>Female</td>\n",
       "      <td>4.43</td>\n",
       "      <td>Smartphone</td>\n",
       "      <td>True</td>\n",
       "      <td>0.40</td>\n",
       "      <td>Poor Sleep</td>\n",
       "      <td>Rural</td>\n",
       "    </tr>\n",
       "    <tr>\n",
       "      <th>9709</th>\n",
       "      <td>16</td>\n",
       "      <td>Male</td>\n",
       "      <td>5.62</td>\n",
       "      <td>Smartphone</td>\n",
       "      <td>True</td>\n",
       "      <td>0.39</td>\n",
       "      <td>Poor Sleep, Eye Strain, Anxiety</td>\n",
       "      <td>Rural</td>\n",
       "    </tr>\n",
       "    <tr>\n",
       "      <th>9710</th>\n",
       "      <td>17</td>\n",
       "      <td>Male</td>\n",
       "      <td>5.60</td>\n",
       "      <td>TV</td>\n",
       "      <td>True</td>\n",
       "      <td>0.43</td>\n",
       "      <td>Poor Sleep</td>\n",
       "      <td>Urban</td>\n",
       "    </tr>\n",
       "    <tr>\n",
       "      <th>9711</th>\n",
       "      <td>15</td>\n",
       "      <td>Female</td>\n",
       "      <td>6.12</td>\n",
       "      <td>TV</td>\n",
       "      <td>True</td>\n",
       "      <td>0.33</td>\n",
       "      <td>Anxiety</td>\n",
       "      <td>Urban</td>\n",
       "    </tr>\n",
       "  </tbody>\n",
       "</table>\n",
       "<p>9712 rows × 8 columns</p>\n",
       "</div>"
      ],
      "text/plain": [
       "      Age  Gender  Avg_Daily_Screen_Time_hr Primary_Device  \\\n",
       "0      14    Male                      3.99     Smartphone   \n",
       "1      11  Female                      4.61         Laptop   \n",
       "2      18  Female                      3.73             TV   \n",
       "3      15  Female                      1.21         Laptop   \n",
       "4      12  Female                      5.89     Smartphone   \n",
       "...   ...     ...                       ...            ...   \n",
       "9707   17    Male                      3.26     Smartphone   \n",
       "9708   17  Female                      4.43     Smartphone   \n",
       "9709   16    Male                      5.62     Smartphone   \n",
       "9710   17    Male                      5.60             TV   \n",
       "9711   15  Female                      6.12             TV   \n",
       "\n",
       "      Exceeded_Recommended_Limit  Educational_to_Recreational_Ratio  \\\n",
       "0                           True                               0.42   \n",
       "1                           True                               0.30   \n",
       "2                           True                               0.32   \n",
       "3                          False                               0.39   \n",
       "4                           True                               0.49   \n",
       "...                          ...                                ...   \n",
       "9707                        True                               0.44   \n",
       "9708                        True                               0.40   \n",
       "9709                        True                               0.39   \n",
       "9710                        True                               0.43   \n",
       "9711                        True                               0.33   \n",
       "\n",
       "                       Health_Impacts Urban_or_Rural  \n",
       "0              Poor Sleep, Eye Strain          Urban  \n",
       "1                          Poor Sleep          Urban  \n",
       "2                          Poor Sleep          Urban  \n",
       "3                                 NaN          Urban  \n",
       "4                 Poor Sleep, Anxiety          Urban  \n",
       "...                               ...            ...  \n",
       "9707                       Poor Sleep          Urban  \n",
       "9708                       Poor Sleep          Rural  \n",
       "9709  Poor Sleep, Eye Strain, Anxiety          Rural  \n",
       "9710                       Poor Sleep          Urban  \n",
       "9711                          Anxiety          Urban  \n",
       "\n",
       "[9712 rows x 8 columns]"
      ]
     },
     "execution_count": 3,
     "metadata": {},
     "output_type": "execute_result"
    }
   ],
   "source": [
    "df=pd.read_csv(\"Indian_Kids_Screen_Time.csv\")\n",
    "df"
   ]
  },
  {
   "cell_type": "code",
   "execution_count": 4,
   "id": "05450b66-b83e-407b-a1eb-f0af9d94b38b",
   "metadata": {},
   "outputs": [
    {
     "data": {
      "text/html": [
       "<div>\n",
       "<style scoped>\n",
       "    .dataframe tbody tr th:only-of-type {\n",
       "        vertical-align: middle;\n",
       "    }\n",
       "\n",
       "    .dataframe tbody tr th {\n",
       "        vertical-align: top;\n",
       "    }\n",
       "\n",
       "    .dataframe thead th {\n",
       "        text-align: right;\n",
       "    }\n",
       "</style>\n",
       "<table border=\"1\" class=\"dataframe\">\n",
       "  <thead>\n",
       "    <tr style=\"text-align: right;\">\n",
       "      <th></th>\n",
       "      <th>Age</th>\n",
       "      <th>Gender</th>\n",
       "      <th>Avg_Daily_Screen_Time_hr</th>\n",
       "      <th>Primary_Device</th>\n",
       "      <th>Exceeded_Recommended_Limit</th>\n",
       "      <th>Educational_to_Recreational_Ratio</th>\n",
       "      <th>Health_Impacts</th>\n",
       "      <th>Urban_or_Rural</th>\n",
       "    </tr>\n",
       "  </thead>\n",
       "  <tbody>\n",
       "    <tr>\n",
       "      <th>0</th>\n",
       "      <td>14</td>\n",
       "      <td>Male</td>\n",
       "      <td>3.99</td>\n",
       "      <td>Smartphone</td>\n",
       "      <td>True</td>\n",
       "      <td>0.42</td>\n",
       "      <td>Poor Sleep, Eye Strain</td>\n",
       "      <td>Urban</td>\n",
       "    </tr>\n",
       "    <tr>\n",
       "      <th>1</th>\n",
       "      <td>11</td>\n",
       "      <td>Female</td>\n",
       "      <td>4.61</td>\n",
       "      <td>Laptop</td>\n",
       "      <td>True</td>\n",
       "      <td>0.30</td>\n",
       "      <td>Poor Sleep</td>\n",
       "      <td>Urban</td>\n",
       "    </tr>\n",
       "    <tr>\n",
       "      <th>2</th>\n",
       "      <td>18</td>\n",
       "      <td>Female</td>\n",
       "      <td>3.73</td>\n",
       "      <td>TV</td>\n",
       "      <td>True</td>\n",
       "      <td>0.32</td>\n",
       "      <td>Poor Sleep</td>\n",
       "      <td>Urban</td>\n",
       "    </tr>\n",
       "    <tr>\n",
       "      <th>3</th>\n",
       "      <td>15</td>\n",
       "      <td>Female</td>\n",
       "      <td>1.21</td>\n",
       "      <td>Laptop</td>\n",
       "      <td>False</td>\n",
       "      <td>0.39</td>\n",
       "      <td>NaN</td>\n",
       "      <td>Urban</td>\n",
       "    </tr>\n",
       "    <tr>\n",
       "      <th>4</th>\n",
       "      <td>12</td>\n",
       "      <td>Female</td>\n",
       "      <td>5.89</td>\n",
       "      <td>Smartphone</td>\n",
       "      <td>True</td>\n",
       "      <td>0.49</td>\n",
       "      <td>Poor Sleep, Anxiety</td>\n",
       "      <td>Urban</td>\n",
       "    </tr>\n",
       "  </tbody>\n",
       "</table>\n",
       "</div>"
      ],
      "text/plain": [
       "   Age  Gender  Avg_Daily_Screen_Time_hr Primary_Device  \\\n",
       "0   14    Male                      3.99     Smartphone   \n",
       "1   11  Female                      4.61         Laptop   \n",
       "2   18  Female                      3.73             TV   \n",
       "3   15  Female                      1.21         Laptop   \n",
       "4   12  Female                      5.89     Smartphone   \n",
       "\n",
       "   Exceeded_Recommended_Limit  Educational_to_Recreational_Ratio  \\\n",
       "0                        True                               0.42   \n",
       "1                        True                               0.30   \n",
       "2                        True                               0.32   \n",
       "3                       False                               0.39   \n",
       "4                        True                               0.49   \n",
       "\n",
       "           Health_Impacts Urban_or_Rural  \n",
       "0  Poor Sleep, Eye Strain          Urban  \n",
       "1              Poor Sleep          Urban  \n",
       "2              Poor Sleep          Urban  \n",
       "3                     NaN          Urban  \n",
       "4     Poor Sleep, Anxiety          Urban  "
      ]
     },
     "execution_count": 4,
     "metadata": {},
     "output_type": "execute_result"
    }
   ],
   "source": [
    "df.head()"
   ]
  },
  {
   "cell_type": "code",
   "execution_count": 5,
   "id": "bcad6f23-7db5-4ba5-97f6-c253356a1c7f",
   "metadata": {},
   "outputs": [
    {
     "data": {
      "text/html": [
       "<div>\n",
       "<style scoped>\n",
       "    .dataframe tbody tr th:only-of-type {\n",
       "        vertical-align: middle;\n",
       "    }\n",
       "\n",
       "    .dataframe tbody tr th {\n",
       "        vertical-align: top;\n",
       "    }\n",
       "\n",
       "    .dataframe thead th {\n",
       "        text-align: right;\n",
       "    }\n",
       "</style>\n",
       "<table border=\"1\" class=\"dataframe\">\n",
       "  <thead>\n",
       "    <tr style=\"text-align: right;\">\n",
       "      <th></th>\n",
       "      <th>Age</th>\n",
       "      <th>Gender</th>\n",
       "      <th>Avg_Daily_Screen_Time_hr</th>\n",
       "      <th>Primary_Device</th>\n",
       "      <th>Exceeded_Recommended_Limit</th>\n",
       "      <th>Educational_to_Recreational_Ratio</th>\n",
       "      <th>Health_Impacts</th>\n",
       "      <th>Urban_or_Rural</th>\n",
       "    </tr>\n",
       "  </thead>\n",
       "  <tbody>\n",
       "    <tr>\n",
       "      <th>9707</th>\n",
       "      <td>17</td>\n",
       "      <td>Male</td>\n",
       "      <td>3.26</td>\n",
       "      <td>Smartphone</td>\n",
       "      <td>True</td>\n",
       "      <td>0.44</td>\n",
       "      <td>Poor Sleep</td>\n",
       "      <td>Urban</td>\n",
       "    </tr>\n",
       "    <tr>\n",
       "      <th>9708</th>\n",
       "      <td>17</td>\n",
       "      <td>Female</td>\n",
       "      <td>4.43</td>\n",
       "      <td>Smartphone</td>\n",
       "      <td>True</td>\n",
       "      <td>0.40</td>\n",
       "      <td>Poor Sleep</td>\n",
       "      <td>Rural</td>\n",
       "    </tr>\n",
       "    <tr>\n",
       "      <th>9709</th>\n",
       "      <td>16</td>\n",
       "      <td>Male</td>\n",
       "      <td>5.62</td>\n",
       "      <td>Smartphone</td>\n",
       "      <td>True</td>\n",
       "      <td>0.39</td>\n",
       "      <td>Poor Sleep, Eye Strain, Anxiety</td>\n",
       "      <td>Rural</td>\n",
       "    </tr>\n",
       "    <tr>\n",
       "      <th>9710</th>\n",
       "      <td>17</td>\n",
       "      <td>Male</td>\n",
       "      <td>5.60</td>\n",
       "      <td>TV</td>\n",
       "      <td>True</td>\n",
       "      <td>0.43</td>\n",
       "      <td>Poor Sleep</td>\n",
       "      <td>Urban</td>\n",
       "    </tr>\n",
       "    <tr>\n",
       "      <th>9711</th>\n",
       "      <td>15</td>\n",
       "      <td>Female</td>\n",
       "      <td>6.12</td>\n",
       "      <td>TV</td>\n",
       "      <td>True</td>\n",
       "      <td>0.33</td>\n",
       "      <td>Anxiety</td>\n",
       "      <td>Urban</td>\n",
       "    </tr>\n",
       "  </tbody>\n",
       "</table>\n",
       "</div>"
      ],
      "text/plain": [
       "      Age  Gender  Avg_Daily_Screen_Time_hr Primary_Device  \\\n",
       "9707   17    Male                      3.26     Smartphone   \n",
       "9708   17  Female                      4.43     Smartphone   \n",
       "9709   16    Male                      5.62     Smartphone   \n",
       "9710   17    Male                      5.60             TV   \n",
       "9711   15  Female                      6.12             TV   \n",
       "\n",
       "      Exceeded_Recommended_Limit  Educational_to_Recreational_Ratio  \\\n",
       "9707                        True                               0.44   \n",
       "9708                        True                               0.40   \n",
       "9709                        True                               0.39   \n",
       "9710                        True                               0.43   \n",
       "9711                        True                               0.33   \n",
       "\n",
       "                       Health_Impacts Urban_or_Rural  \n",
       "9707                       Poor Sleep          Urban  \n",
       "9708                       Poor Sleep          Rural  \n",
       "9709  Poor Sleep, Eye Strain, Anxiety          Rural  \n",
       "9710                       Poor Sleep          Urban  \n",
       "9711                          Anxiety          Urban  "
      ]
     },
     "execution_count": 5,
     "metadata": {},
     "output_type": "execute_result"
    }
   ],
   "source": [
    "df.tail()"
   ]
  },
  {
   "cell_type": "code",
   "execution_count": 6,
   "id": "478aa600-65ed-4a11-a1f6-f25fde7cfd45",
   "metadata": {},
   "outputs": [
    {
     "data": {
      "text/plain": [
       "(9712, 8)"
      ]
     },
     "execution_count": 6,
     "metadata": {},
     "output_type": "execute_result"
    }
   ],
   "source": [
    "df.shape"
   ]
  },
  {
   "cell_type": "code",
   "execution_count": 7,
   "id": "c33de5bd-927f-4008-8d9f-3b2eb193c98f",
   "metadata": {},
   "outputs": [
    {
     "data": {
      "text/plain": [
       "Exceeded_Recommended_Limit\n",
       "True     8301\n",
       "False    1411\n",
       "Name: count, dtype: int64"
      ]
     },
     "execution_count": 7,
     "metadata": {},
     "output_type": "execute_result"
    }
   ],
   "source": [
    "df['Exceeded_Recommended_Limit'].value_counts()"
   ]
  },
  {
   "cell_type": "code",
   "execution_count": 8,
   "id": "b15327d1-e47d-4fef-8018-453e0f497ece",
   "metadata": {},
   "outputs": [
    {
     "data": {
      "text/plain": [
       "Index(['Age', 'Gender', 'Avg_Daily_Screen_Time_hr', 'Primary_Device',\n",
       "       'Exceeded_Recommended_Limit', 'Educational_to_Recreational_Ratio',\n",
       "       'Health_Impacts', 'Urban_or_Rural'],\n",
       "      dtype='object')"
      ]
     },
     "execution_count": 8,
     "metadata": {},
     "output_type": "execute_result"
    }
   ],
   "source": [
    "df.columns"
   ]
  },
  {
   "cell_type": "code",
   "execution_count": 9,
   "id": "2caaf4f2-2daa-416d-892e-5eea81a0d768",
   "metadata": {},
   "outputs": [
    {
     "data": {
      "text/plain": [
       "Age                                    int64\n",
       "Gender                                object\n",
       "Avg_Daily_Screen_Time_hr             float64\n",
       "Primary_Device                        object\n",
       "Exceeded_Recommended_Limit              bool\n",
       "Educational_to_Recreational_Ratio    float64\n",
       "Health_Impacts                        object\n",
       "Urban_or_Rural                        object\n",
       "dtype: object"
      ]
     },
     "execution_count": 9,
     "metadata": {},
     "output_type": "execute_result"
    }
   ],
   "source": [
    "df.dtypes"
   ]
  },
  {
   "cell_type": "markdown",
   "id": "ea55b91f-3414-4808-b80f-069c1624551f",
   "metadata": {},
   "source": [
    "**3.EXPLORATORY DATA ANALYSIS (EDA)**"
   ]
  },
  {
   "cell_type": "markdown",
   "id": "6bedba8d-cde8-400b-a516-40de9d8377d5",
   "metadata": {},
   "source": [
    "1.Educational to Recreational Ratio Distribution"
   ]
  },
  {
   "cell_type": "code",
   "execution_count": 20,
   "id": "0299a036-bfd0-480d-b7d6-db243d7a40b4",
   "metadata": {},
   "outputs": [
    {
     "data": {
      "image/png": "[encoded data removed]",
      "text/plain": [
       "<Figure size 700x400 with 1 Axes>"
      ]
     },
     "metadata": {},
     "output_type": "display_data"
    }
   ],
   "source": [
    "plt.figure(figsize=(7, 4))\n",
    "sns.histplot(df['Educational_to_Recreational_Ratio'], kde=True, color='orange')\n",
    "plt.title('Distribution of Educational to Recreational Screen Time Ratio')\n",
    "plt.xlabel('Edu/Recreational Ratio')\n",
    "plt.ylabel('Frequency')\n",
    "plt.show()\n"
   ]
  },
  {
   "cell_type": "markdown",
   "id": "9471d5f0-4587-4127-a81d-04fcfceb6eac",
   "metadata": {},
   "source": [
    "2.Count Plot: Exceeded Recommended Limit by Gender"
   ]
  },
  {
   "cell_type": "code",
   "execution_count": 23,
   "id": "9f9a3f91-3885-4533-9cdc-23e77b39fe25",
   "metadata": {},
   "outputs": [
    {
     "data": {
      "image/png": "[encoded data removed]",
      "text/plain": [
       "<Figure size 600x400 with 1 Axes>"
      ]
     },
     "metadata": {},
     "output_type": "display_data"
    }
   ],
   "source": [
    "plt.figure(figsize=(6, 4))\n",
    "sns.countplot(data=df, x='Gender', hue='Exceeded_Recommended_Limit')\n",
    "plt.title('Exceeded Screen Time Limit by Gender')\n",
    "plt.xlabel('Gender')\n",
    "plt.ylabel('Count')\n",
    "plt.legend(title='Exceeded Limit')\n",
    "plt.show()\n"
   ]
  },
  {
   "cell_type": "markdown",
   "id": "57549eae-7d42-40f2-930a-8bcdcc4570dc",
   "metadata": {},
   "source": [
    "3. Bar Plot: Average Screen Time by Device Type\n"
   ]
  },
  {
   "cell_type": "code",
   "execution_count": 26,
   "id": "bfd34e20-8f46-4159-b100-812638c6d6ee",
   "metadata": {},
   "outputs": [
    {
     "name": "stderr",
     "output_type": "stream",
     "text": [
      "C:\\Users\\HP\\AppData\\Local\\Temp\\ipykernel_528\\1079884562.py:2: FutureWarning: \n",
      "\n",
      "The `ci` parameter is deprecated. Use `errorbar=None` for the same effect.\n",
      "\n",
      "  sns.barplot(data=df, x='Primary_Device', y='Avg_Daily_Screen_Time_hr', ci=None)\n"
     ]
    },
    {
     "data": {
      "image/png": "[encoded data removed]",
      "text/plain": [
       "<Figure size 800x500 with 1 Axes>"
      ]
     },
     "metadata": {},
     "output_type": "display_data"
    }
   ],
   "source": [
    "plt.figure(figsize=(8, 5))\n",
    "sns.barplot(data=df, x='Primary_Device', y='Avg_Daily_Screen_Time_hr', ci=None)\n",
    "plt.title('Average Daily Screen Time by Device Type')\n",
    "plt.xlabel('Primary Device')\n",
    "plt.ylabel('Avg Daily Screen Time (hrs)')\n",
    "plt.xticks(rotation=45)\n",
    "plt.show()\n"
   ]
  },
  {
   "cell_type": "markdown",
   "id": "0d39eee0-5e7b-4b61-9153-0876beed94b5",
   "metadata": {},
   "source": [
    "4.Box Plot: Screen Time vs. Age Group"
   ]
  },
  {
   "cell_type": "code",
   "execution_count": 29,
   "id": "bb1bd7bb-9b4a-4887-bf07-bbc7df65d197",
   "metadata": {},
   "outputs": [
    {
     "name": "stderr",
     "output_type": "stream",
     "text": [
      "C:\\Users\\HP\\AppData\\Local\\Temp\\ipykernel_528\\590324840.py:2: FutureWarning: \n",
      "\n",
      "Passing `palette` without assigning `hue` is deprecated and will be removed in v0.14.0. Assign the `x` variable to `hue` and set `legend=False` for the same effect.\n",
      "\n",
      "  sns.boxplot(data=df, x='Exceeded_Recommended_Limit', y='Age', palette='Set2')\n"
     ]
    },
    {
     "data": {
      "image/png": "[encoded data removed]",
      "text/plain": [
       "<Figure size 800x500 with 1 Axes>"
      ]
     },
     "metadata": {},
     "output_type": "display_data"
    }
   ],
   "source": [
    "plt.figure(figsize=(8, 5))\n",
    "sns.boxplot(data=df, x='Exceeded_Recommended_Limit', y='Age', palette='Set2')\n",
    "plt.title('Age Distribution by Screen Time Limit Exceeded')\n",
    "plt.xlabel('Exceeded Screen Time Limit')\n",
    "plt.ylabel('Age')\n",
    "plt.show()\n"
   ]
  },
  {
   "cell_type": "markdown",
   "id": "1c0380a6-701a-4b2a-b0d7-fa6ad8740d54",
   "metadata": {},
   "source": [
    "5.Heatmap: Correlation Between Numeric Features"
   ]
  },
  {
   "cell_type": "code",
   "execution_count": 32,
   "id": "0ceebad5-c608-43bf-bc8c-b54b19ffc7f4",
   "metadata": {},
   "outputs": [
    {
     "data": {
      "image/png": "[encoded data removed]",
      "text/plain": [
       "<Figure size 600x400 with 2 Axes>"
      ]
     },
     "metadata": {},
     "output_type": "display_data"
    }
   ],
   "source": [
    "plt.figure(figsize=(6, 4))\n",
    "numeric_cols = df.select_dtypes(include=['float64', 'int64'])\n",
    "sns.heatmap(numeric_cols.corr(), annot=True, cmap='coolwarm', fmt=\".2f\")\n",
    "plt.title('Correlation Heatmap')\n",
    "plt.show()\n"
   ]
  },
  {
   "cell_type": "markdown",
   "id": "1ad980d6-272d-4411-9609-dfb56ed9b8c2",
   "metadata": {},
   "source": [
    "6.Pie Chart: Urban vs Rural Distribution"
   ]
  },
  {
   "cell_type": "code",
   "execution_count": 35,
   "id": "96900317-4d33-4094-abc1-61d69189a664",
   "metadata": {},
   "outputs": [
    {
     "data": {
      "image/png": "[encoded data removed]",
      "text/plain": [
       "<Figure size 640x480 with 1 Axes>"
      ]
     },
     "metadata": {},
     "output_type": "display_data"
    }
   ],
   "source": [
    "df['Urban_or_Rural'].value_counts().plot(kind='pie', autopct='%1.1f%%', startangle=90, colors=['skyblue', 'lightgreen'])\n",
    "plt.title('Urban vs Rural Users')\n",
    "plt.ylabel('')\n",
    "plt.show()\n"
   ]
  },
  {
   "cell_type": "markdown",
   "id": "56d6c49f-271d-4bc9-be97-12489a9152af",
   "metadata": {},
   "source": [
    "**4.DATA PREPROCESSING**"
   ]
  },
  {
   "cell_type": "code",
   "execution_count": 38,
   "id": "42e7d4fb-29ab-4df1-aa20-5146c7a48496",
   "metadata": {},
   "outputs": [
    {
     "data": {
      "text/plain": [
       "Age                                     0\n",
       "Gender                                  0\n",
       "Avg_Daily_Screen_Time_hr                0\n",
       "Primary_Device                          0\n",
       "Exceeded_Recommended_Limit              0\n",
       "Educational_to_Recreational_Ratio       0\n",
       "Health_Impacts                       3218\n",
       "Urban_or_Rural                          0\n",
       "dtype: int64"
      ]
     },
     "execution_count": 38,
     "metadata": {},
     "output_type": "execute_result"
    }
   ],
   "source": [
    "df.isnull().sum()"
   ]
  },
  {
   "cell_type": "code",
   "execution_count": 40,
   "id": "f536fde9-7b24-4bfa-a5c5-ab46af36f2a0",
   "metadata": {},
   "outputs": [],
   "source": [
    "df.columns = df.columns.str.strip()"
   ]
  },
  {
   "cell_type": "code",
   "execution_count": 42,
   "id": "7294e91e-0a89-4935-b7c0-88f0488ab5f6",
   "metadata": {},
   "outputs": [],
   "source": [
    "df['Health_Impacts'] = df['Health_Impacts'].fillna(df['Health_Impacts'].mode()[0])"
   ]
  },
  {
   "cell_type": "code",
   "execution_count": 44,
   "id": "3ef9a3ac-f3e2-40ba-b2d4-72a7d338d6da",
   "metadata": {},
   "outputs": [
    {
     "data": {
      "text/plain": [
       "['Gender', 'Primary_Device', 'Health_Impacts', 'Urban_or_Rural']"
      ]
     },
     "execution_count": 44,
     "metadata": {},
     "output_type": "execute_result"
    }
   ],
   "source": [
    "cat_features=[feature for feature in df.columns if df[feature].dtype=='object']\n",
    "cat_features"
   ]
  },
  {
   "cell_type": "code",
   "execution_count": 46,
   "id": "efc211f4-048d-4d43-9401-c995821a4c45",
   "metadata": {},
   "outputs": [
    {
     "name": "stdout",
     "output_type": "stream",
     "text": [
      "   Age  Gender  Avg_Daily_Screen_Time_hr Primary_Device  \\\n",
      "0    6    Male                      3.99     Smartphone   \n",
      "1    3  Female                      4.61         Laptop   \n",
      "2   10  Female                      3.73             TV   \n",
      "3    7  Female                      1.21         Laptop   \n",
      "4    4  Female                      5.89     Smartphone   \n",
      "\n",
      "   Exceeded_Recommended_Limit  Educational_to_Recreational_Ratio  \\\n",
      "0                        True                               0.42   \n",
      "1                        True                               0.30   \n",
      "2                        True                               0.32   \n",
      "3                       False                               0.39   \n",
      "4                        True                               0.49   \n",
      "\n",
      "           Health_Impacts Urban_or_Rural  \n",
      "0  Poor Sleep, Eye Strain          Urban  \n",
      "1              Poor Sleep          Urban  \n",
      "2              Poor Sleep          Urban  \n",
      "3              Poor Sleep          Urban  \n",
      "4     Poor Sleep, Anxiety          Urban  \n",
      "   Age  Gender  Avg_Daily_Screen_Time_hr Primary_Device  \\\n",
      "0    6       1                      3.99     Smartphone   \n",
      "1    3       0                      4.61         Laptop   \n",
      "2   10       0                      3.73             TV   \n",
      "3    7       0                      1.21         Laptop   \n",
      "4    4       0                      5.89     Smartphone   \n",
      "\n",
      "   Exceeded_Recommended_Limit  Educational_to_Recreational_Ratio  \\\n",
      "0                        True                               0.42   \n",
      "1                        True                               0.30   \n",
      "2                        True                               0.32   \n",
      "3                       False                               0.39   \n",
      "4                        True                               0.49   \n",
      "\n",
      "           Health_Impacts Urban_or_Rural  \n",
      "0  Poor Sleep, Eye Strain          Urban  \n",
      "1              Poor Sleep          Urban  \n",
      "2              Poor Sleep          Urban  \n",
      "3              Poor Sleep          Urban  \n",
      "4     Poor Sleep, Anxiety          Urban  \n",
      "   Age  Gender  Avg_Daily_Screen_Time_hr Primary_Device  \\\n",
      "0    6       1                       380     Smartphone   \n",
      "1    3       0                       442         Laptop   \n",
      "2   10       0                       354             TV   \n",
      "3    7       0                       105         Laptop   \n",
      "4    4       0                       570     Smartphone   \n",
      "\n",
      "   Exceeded_Recommended_Limit  Educational_to_Recreational_Ratio  \\\n",
      "0                        True                               0.42   \n",
      "1                        True                               0.30   \n",
      "2                        True                               0.32   \n",
      "3                       False                               0.39   \n",
      "4                        True                               0.49   \n",
      "\n",
      "           Health_Impacts Urban_or_Rural  \n",
      "0  Poor Sleep, Eye Strain          Urban  \n",
      "1              Poor Sleep          Urban  \n",
      "2              Poor Sleep          Urban  \n",
      "3              Poor Sleep          Urban  \n",
      "4     Poor Sleep, Anxiety          Urban  \n",
      "   Age  Gender  Avg_Daily_Screen_Time_hr  Primary_Device  \\\n",
      "0    6       1                       380               1   \n",
      "1    3       0                       442               0   \n",
      "2   10       0                       354               2   \n",
      "3    7       0                       105               0   \n",
      "4    4       0                       570               1   \n",
      "\n",
      "   Exceeded_Recommended_Limit  Educational_to_Recreational_Ratio  \\\n",
      "0                        True                               0.42   \n",
      "1                        True                               0.30   \n",
      "2                        True                               0.32   \n",
      "3                       False                               0.39   \n",
      "4                        True                               0.49   \n",
      "\n",
      "           Health_Impacts Urban_or_Rural  \n",
      "0  Poor Sleep, Eye Strain          Urban  \n",
      "1              Poor Sleep          Urban  \n",
      "2              Poor Sleep          Urban  \n",
      "3              Poor Sleep          Urban  \n",
      "4     Poor Sleep, Anxiety          Urban  \n",
      "   Age  Gender  Avg_Daily_Screen_Time_hr  Primary_Device  \\\n",
      "0    6       1                       380               1   \n",
      "1    3       0                       442               0   \n",
      "2   10       0                       354               2   \n",
      "3    7       0                       105               0   \n",
      "4    4       0                       570               1   \n",
      "\n",
      "   Exceeded_Recommended_Limit  Educational_to_Recreational_Ratio  \\\n",
      "0                           1                               0.42   \n",
      "1                           1                               0.30   \n",
      "2                           1                               0.32   \n",
      "3                           0                               0.39   \n",
      "4                           1                               0.49   \n",
      "\n",
      "           Health_Impacts Urban_or_Rural  \n",
      "0  Poor Sleep, Eye Strain          Urban  \n",
      "1              Poor Sleep          Urban  \n",
      "2              Poor Sleep          Urban  \n",
      "3              Poor Sleep          Urban  \n",
      "4     Poor Sleep, Anxiety          Urban  \n",
      "   Age  Gender  Avg_Daily_Screen_Time_hr  Primary_Device  \\\n",
      "0    6       1                       380               1   \n",
      "1    3       0                       442               0   \n",
      "2   10       0                       354               2   \n",
      "3    7       0                       105               0   \n",
      "4    4       0                       570               1   \n",
      "\n",
      "   Exceeded_Recommended_Limit  Educational_to_Recreational_Ratio  \\\n",
      "0                           1                                 12   \n",
      "1                           1                                  0   \n",
      "2                           1                                  2   \n",
      "3                           0                                  9   \n",
      "4                           1                                 19   \n",
      "\n",
      "           Health_Impacts Urban_or_Rural  \n",
      "0  Poor Sleep, Eye Strain          Urban  \n",
      "1              Poor Sleep          Urban  \n",
      "2              Poor Sleep          Urban  \n",
      "3              Poor Sleep          Urban  \n",
      "4     Poor Sleep, Anxiety          Urban  \n",
      "   Age  Gender  Avg_Daily_Screen_Time_hr  Primary_Device  \\\n",
      "0    6       1                       380               1   \n",
      "1    3       0                       442               0   \n",
      "2   10       0                       354               2   \n",
      "3    7       0                       105               0   \n",
      "4    4       0                       570               1   \n",
      "\n",
      "   Exceeded_Recommended_Limit  Educational_to_Recreational_Ratio  \\\n",
      "0                           1                                 12   \n",
      "1                           1                                  0   \n",
      "2                           1                                  2   \n",
      "3                           0                                  9   \n",
      "4                           1                                 19   \n",
      "\n",
      "   Health_Impacts Urban_or_Rural  \n",
      "0              10          Urban  \n",
      "1               7          Urban  \n",
      "2               7          Urban  \n",
      "3               7          Urban  \n",
      "4               8          Urban  \n",
      "   Age  Gender  Avg_Daily_Screen_Time_hr  Primary_Device  \\\n",
      "0    6       1                       380               1   \n",
      "1    3       0                       442               0   \n",
      "2   10       0                       354               2   \n",
      "3    7       0                       105               0   \n",
      "4    4       0                       570               1   \n",
      "\n",
      "   Exceeded_Recommended_Limit  Educational_to_Recreational_Ratio  \\\n",
      "0                           1                                 12   \n",
      "1                           1                                  0   \n",
      "2                           1                                  2   \n",
      "3                           0                                  9   \n",
      "4                           1                                 19   \n",
      "\n",
      "   Health_Impacts  Urban_or_Rural  \n",
      "0              10               1  \n",
      "1               7               1  \n",
      "2               7               1  \n",
      "3               7               1  \n",
      "4               8               1  \n"
     ]
    }
   ],
   "source": [
    "le=LabelEncoder()\n",
    "for cat_features in df.columns:\n",
    "    df[cat_features]=le.fit_transform(df[cat_features])\n",
    "    print(df.head())"
   ]
  },
  {
   "cell_type": "markdown",
   "id": "6a1a5743-3787-4210-83a7-da529cda394f",
   "metadata": {},
   "source": [
    "**5.FEATURE SELECTION**"
   ]
  },
  {
   "cell_type": "code",
   "execution_count": 49,
   "id": "dfc23868-3b27-45aa-acd1-0d595e9ae8f8",
   "metadata": {},
   "outputs": [
    {
     "data": {
      "text/plain": [
       "0       1\n",
       "1       1\n",
       "2       1\n",
       "3       0\n",
       "4       1\n",
       "       ..\n",
       "9707    1\n",
       "9708    1\n",
       "9709    1\n",
       "9710    1\n",
       "9711    1\n",
       "Name: Exceeded_Recommended_Limit, Length: 9712, dtype: int64"
      ]
     },
     "execution_count": 49,
     "metadata": {},
     "output_type": "execute_result"
    }
   ],
   "source": [
    "Y = df['Exceeded_Recommended_Limit']\n",
    "Y"
   ]
  },
  {
   "cell_type": "code",
   "execution_count": 51,
   "id": "7386cb41-9d5d-41b7-92e7-542b1ed482ff",
   "metadata": {},
   "outputs": [
    {
     "data": {
      "text/html": [
       "<div>\n",
       "<style scoped>\n",
       "    .dataframe tbody tr th:only-of-type {\n",
       "        vertical-align: middle;\n",
       "    }\n",
       "\n",
       "    .dataframe tbody tr th {\n",
       "        vertical-align: top;\n",
       "    }\n",
       "\n",
       "    .dataframe thead th {\n",
       "        text-align: right;\n",
       "    }\n",
       "</style>\n",
       "<table border=\"1\" class=\"dataframe\">\n",
       "  <thead>\n",
       "    <tr style=\"text-align: right;\">\n",
       "      <th></th>\n",
       "      <th>Age</th>\n",
       "      <th>Gender</th>\n",
       "      <th>Avg_Daily_Screen_Time_hr</th>\n",
       "      <th>Primary_Device</th>\n",
       "      <th>Educational_to_Recreational_Ratio</th>\n",
       "      <th>Health_Impacts</th>\n",
       "      <th>Urban_or_Rural</th>\n",
       "    </tr>\n",
       "  </thead>\n",
       "  <tbody>\n",
       "    <tr>\n",
       "      <th>0</th>\n",
       "      <td>6</td>\n",
       "      <td>1</td>\n",
       "      <td>380</td>\n",
       "      <td>1</td>\n",
       "      <td>12</td>\n",
       "      <td>10</td>\n",
       "      <td>1</td>\n",
       "    </tr>\n",
       "    <tr>\n",
       "      <th>1</th>\n",
       "      <td>3</td>\n",
       "      <td>0</td>\n",
       "      <td>442</td>\n",
       "      <td>0</td>\n",
       "      <td>0</td>\n",
       "      <td>7</td>\n",
       "      <td>1</td>\n",
       "    </tr>\n",
       "    <tr>\n",
       "      <th>2</th>\n",
       "      <td>10</td>\n",
       "      <td>0</td>\n",
       "      <td>354</td>\n",
       "      <td>2</td>\n",
       "      <td>2</td>\n",
       "      <td>7</td>\n",
       "      <td>1</td>\n",
       "    </tr>\n",
       "    <tr>\n",
       "      <th>3</th>\n",
       "      <td>7</td>\n",
       "      <td>0</td>\n",
       "      <td>105</td>\n",
       "      <td>0</td>\n",
       "      <td>9</td>\n",
       "      <td>7</td>\n",
       "      <td>1</td>\n",
       "    </tr>\n",
       "    <tr>\n",
       "      <th>4</th>\n",
       "      <td>4</td>\n",
       "      <td>0</td>\n",
       "      <td>570</td>\n",
       "      <td>1</td>\n",
       "      <td>19</td>\n",
       "      <td>8</td>\n",
       "      <td>1</td>\n",
       "    </tr>\n",
       "    <tr>\n",
       "      <th>...</th>\n",
       "      <td>...</td>\n",
       "      <td>...</td>\n",
       "      <td>...</td>\n",
       "      <td>...</td>\n",
       "      <td>...</td>\n",
       "      <td>...</td>\n",
       "      <td>...</td>\n",
       "    </tr>\n",
       "    <tr>\n",
       "      <th>9707</th>\n",
       "      <td>9</td>\n",
       "      <td>1</td>\n",
       "      <td>307</td>\n",
       "      <td>1</td>\n",
       "      <td>14</td>\n",
       "      <td>7</td>\n",
       "      <td>1</td>\n",
       "    </tr>\n",
       "    <tr>\n",
       "      <th>9708</th>\n",
       "      <td>9</td>\n",
       "      <td>0</td>\n",
       "      <td>424</td>\n",
       "      <td>1</td>\n",
       "      <td>10</td>\n",
       "      <td>7</td>\n",
       "      <td>0</td>\n",
       "    </tr>\n",
       "    <tr>\n",
       "      <th>9709</th>\n",
       "      <td>8</td>\n",
       "      <td>1</td>\n",
       "      <td>543</td>\n",
       "      <td>1</td>\n",
       "      <td>9</td>\n",
       "      <td>11</td>\n",
       "      <td>0</td>\n",
       "    </tr>\n",
       "    <tr>\n",
       "      <th>9710</th>\n",
       "      <td>9</td>\n",
       "      <td>1</td>\n",
       "      <td>541</td>\n",
       "      <td>2</td>\n",
       "      <td>13</td>\n",
       "      <td>7</td>\n",
       "      <td>1</td>\n",
       "    </tr>\n",
       "    <tr>\n",
       "      <th>9711</th>\n",
       "      <td>7</td>\n",
       "      <td>0</td>\n",
       "      <td>593</td>\n",
       "      <td>2</td>\n",
       "      <td>3</td>\n",
       "      <td>0</td>\n",
       "      <td>1</td>\n",
       "    </tr>\n",
       "  </tbody>\n",
       "</table>\n",
       "<p>9712 rows × 7 columns</p>\n",
       "</div>"
      ],
      "text/plain": [
       "      Age  Gender  Avg_Daily_Screen_Time_hr  Primary_Device  \\\n",
       "0       6       1                       380               1   \n",
       "1       3       0                       442               0   \n",
       "2      10       0                       354               2   \n",
       "3       7       0                       105               0   \n",
       "4       4       0                       570               1   \n",
       "...   ...     ...                       ...             ...   \n",
       "9707    9       1                       307               1   \n",
       "9708    9       0                       424               1   \n",
       "9709    8       1                       543               1   \n",
       "9710    9       1                       541               2   \n",
       "9711    7       0                       593               2   \n",
       "\n",
       "      Educational_to_Recreational_Ratio  Health_Impacts  Urban_or_Rural  \n",
       "0                                    12              10               1  \n",
       "1                                     0               7               1  \n",
       "2                                     2               7               1  \n",
       "3                                     9               7               1  \n",
       "4                                    19               8               1  \n",
       "...                                 ...             ...             ...  \n",
       "9707                                 14               7               1  \n",
       "9708                                 10               7               0  \n",
       "9709                                  9              11               0  \n",
       "9710                                 13               7               1  \n",
       "9711                                  3               0               1  \n",
       "\n",
       "[9712 rows x 7 columns]"
      ]
     },
     "execution_count": 51,
     "metadata": {},
     "output_type": "execute_result"
    }
   ],
   "source": [
    "X=df.drop(['Exceeded_Recommended_Limit'],axis=1)\n",
    "X"
   ]
  },
  {
   "cell_type": "code",
   "execution_count": 53,
   "id": "18a308bc-8f41-4847-a4c8-9052aa7339f1",
   "metadata": {},
   "outputs": [
    {
     "data": {
      "text/plain": [
       "array([[ 0.32280533,  0.98244403, -0.21483581, ..., -0.09869382,\n",
       "         0.95817728,  0.64622231],\n",
       "       [-0.62587896, -1.01786969,  0.15803223, ..., -1.7376469 ,\n",
       "        -0.06204832,  0.64622231],\n",
       "       [ 1.5877177 , -1.01786969, -0.37119982, ..., -1.46448805,\n",
       "        -0.06204832,  0.64622231],\n",
       "       ...,\n",
       "       [ 0.95526151,  0.98244403,  0.7654463 , ..., -0.50843209,\n",
       "         1.29825248, -1.54745509],\n",
       "       [ 1.27148961,  0.98244403,  0.7534183 , ...,  0.0378856 ,\n",
       "        -0.06204832,  0.64622231],\n",
       "       [ 0.63903342, -1.01786969,  1.06614633, ..., -1.32790863,\n",
       "        -2.4425747 ,  0.64622231]])"
      ]
     },
     "execution_count": 53,
     "metadata": {},
     "output_type": "execute_result"
    }
   ],
   "source": [
    "s=StandardScaler()\n",
    "s.fit_transform(X)"
   ]
  },
  {
   "cell_type": "code",
   "execution_count": 55,
   "id": "b483b980-e0b9-41f8-a866-5c6dc76186fd",
   "metadata": {},
   "outputs": [
    {
     "data": {
      "text/plain": [
       "array([[0.6       , 1.        , 0.42316258, ..., 0.4       , 0.71428571,\n",
       "        1.        ],\n",
       "       [0.3       , 0.        , 0.4922049 , ..., 0.        , 0.5       ,\n",
       "        1.        ],\n",
       "       [1.        , 0.        , 0.39420935, ..., 0.06666667, 0.5       ,\n",
       "        1.        ],\n",
       "       ...,\n",
       "       [0.8       , 1.        , 0.60467706, ..., 0.3       , 0.78571429,\n",
       "        0.        ],\n",
       "       [0.9       , 1.        , 0.60244989, ..., 0.43333333, 0.5       ,\n",
       "        1.        ],\n",
       "       [0.7       , 0.        , 0.66035635, ..., 0.1       , 0.        ,\n",
       "        1.        ]])"
      ]
     },
     "execution_count": 55,
     "metadata": {},
     "output_type": "execute_result"
    }
   ],
   "source": [
    "m=MinMaxScaler()\n",
    "m.fit_transform(X)"
   ]
  },
  {
   "cell_type": "markdown",
   "id": "7892fc65-0b82-4a27-a2fa-3bd843fd0f57",
   "metadata": {},
   "source": [
    "**6.DATA SPLITTING**"
   ]
  },
  {
   "cell_type": "code",
   "execution_count": 58,
   "id": "c253bdb4-df99-4e41-a85e-14f2408ba52a",
   "metadata": {},
   "outputs": [],
   "source": [
    "x_train,x_test,y_train,y_test=train_test_split(X,Y)"
   ]
  },
  {
   "cell_type": "code",
   "execution_count": 60,
   "id": "b7cce975-f0e5-4ae2-a694-74bfb8419ec6",
   "metadata": {},
   "outputs": [
    {
     "data": {
      "text/html": [
       "<div>\n",
       "<style scoped>\n",
       "    .dataframe tbody tr th:only-of-type {\n",
       "        vertical-align: middle;\n",
       "    }\n",
       "\n",
       "    .dataframe tbody tr th {\n",
       "        vertical-align: top;\n",
       "    }\n",
       "\n",
       "    .dataframe thead th {\n",
       "        text-align: right;\n",
       "    }\n",
       "</style>\n",
       "<table border=\"1\" class=\"dataframe\">\n",
       "  <thead>\n",
       "    <tr style=\"text-align: right;\">\n",
       "      <th></th>\n",
       "      <th>Age</th>\n",
       "      <th>Gender</th>\n",
       "      <th>Avg_Daily_Screen_Time_hr</th>\n",
       "      <th>Primary_Device</th>\n",
       "      <th>Educational_to_Recreational_Ratio</th>\n",
       "      <th>Health_Impacts</th>\n",
       "      <th>Urban_or_Rural</th>\n",
       "    </tr>\n",
       "  </thead>\n",
       "  <tbody>\n",
       "    <tr>\n",
       "      <th>2032</th>\n",
       "      <td>6</td>\n",
       "      <td>1</td>\n",
       "      <td>512</td>\n",
       "      <td>3</td>\n",
       "      <td>10</td>\n",
       "      <td>7</td>\n",
       "      <td>1</td>\n",
       "    </tr>\n",
       "    <tr>\n",
       "      <th>5135</th>\n",
       "      <td>2</td>\n",
       "      <td>0</td>\n",
       "      <td>320</td>\n",
       "      <td>2</td>\n",
       "      <td>14</td>\n",
       "      <td>10</td>\n",
       "      <td>0</td>\n",
       "    </tr>\n",
       "    <tr>\n",
       "      <th>3644</th>\n",
       "      <td>1</td>\n",
       "      <td>1</td>\n",
       "      <td>378</td>\n",
       "      <td>2</td>\n",
       "      <td>20</td>\n",
       "      <td>7</td>\n",
       "      <td>1</td>\n",
       "    </tr>\n",
       "    <tr>\n",
       "      <th>4592</th>\n",
       "      <td>3</td>\n",
       "      <td>1</td>\n",
       "      <td>605</td>\n",
       "      <td>0</td>\n",
       "      <td>6</td>\n",
       "      <td>0</td>\n",
       "      <td>1</td>\n",
       "    </tr>\n",
       "    <tr>\n",
       "      <th>173</th>\n",
       "      <td>7</td>\n",
       "      <td>1</td>\n",
       "      <td>390</td>\n",
       "      <td>2</td>\n",
       "      <td>5</td>\n",
       "      <td>8</td>\n",
       "      <td>1</td>\n",
       "    </tr>\n",
       "    <tr>\n",
       "      <th>...</th>\n",
       "      <td>...</td>\n",
       "      <td>...</td>\n",
       "      <td>...</td>\n",
       "      <td>...</td>\n",
       "      <td>...</td>\n",
       "      <td>...</td>\n",
       "      <td>...</td>\n",
       "    </tr>\n",
       "    <tr>\n",
       "      <th>9172</th>\n",
       "      <td>9</td>\n",
       "      <td>1</td>\n",
       "      <td>676</td>\n",
       "      <td>2</td>\n",
       "      <td>6</td>\n",
       "      <td>10</td>\n",
       "      <td>1</td>\n",
       "    </tr>\n",
       "    <tr>\n",
       "      <th>8647</th>\n",
       "      <td>0</td>\n",
       "      <td>1</td>\n",
       "      <td>40</td>\n",
       "      <td>2</td>\n",
       "      <td>17</td>\n",
       "      <td>7</td>\n",
       "      <td>1</td>\n",
       "    </tr>\n",
       "    <tr>\n",
       "      <th>5775</th>\n",
       "      <td>7</td>\n",
       "      <td>0</td>\n",
       "      <td>379</td>\n",
       "      <td>1</td>\n",
       "      <td>11</td>\n",
       "      <td>0</td>\n",
       "      <td>1</td>\n",
       "    </tr>\n",
       "    <tr>\n",
       "      <th>2780</th>\n",
       "      <td>4</td>\n",
       "      <td>0</td>\n",
       "      <td>577</td>\n",
       "      <td>3</td>\n",
       "      <td>1</td>\n",
       "      <td>7</td>\n",
       "      <td>1</td>\n",
       "    </tr>\n",
       "    <tr>\n",
       "      <th>5739</th>\n",
       "      <td>5</td>\n",
       "      <td>1</td>\n",
       "      <td>246</td>\n",
       "      <td>1</td>\n",
       "      <td>12</td>\n",
       "      <td>7</td>\n",
       "      <td>1</td>\n",
       "    </tr>\n",
       "  </tbody>\n",
       "</table>\n",
       "<p>7284 rows × 7 columns</p>\n",
       "</div>"
      ],
      "text/plain": [
       "      Age  Gender  Avg_Daily_Screen_Time_hr  Primary_Device  \\\n",
       "2032    6       1                       512               3   \n",
       "5135    2       0                       320               2   \n",
       "3644    1       1                       378               2   \n",
       "4592    3       1                       605               0   \n",
       "173     7       1                       390               2   \n",
       "...   ...     ...                       ...             ...   \n",
       "9172    9       1                       676               2   \n",
       "8647    0       1                        40               2   \n",
       "5775    7       0                       379               1   \n",
       "2780    4       0                       577               3   \n",
       "5739    5       1                       246               1   \n",
       "\n",
       "      Educational_to_Recreational_Ratio  Health_Impacts  Urban_or_Rural  \n",
       "2032                                 10               7               1  \n",
       "5135                                 14              10               0  \n",
       "3644                                 20               7               1  \n",
       "4592                                  6               0               1  \n",
       "173                                   5               8               1  \n",
       "...                                 ...             ...             ...  \n",
       "9172                                  6              10               1  \n",
       "8647                                 17               7               1  \n",
       "5775                                 11               0               1  \n",
       "2780                                  1               7               1  \n",
       "5739                                 12               7               1  \n",
       "\n",
       "[7284 rows x 7 columns]"
      ]
     },
     "execution_count": 60,
     "metadata": {},
     "output_type": "execute_result"
    }
   ],
   "source": [
    "x_train"
   ]
  },
  {
   "cell_type": "code",
   "execution_count": 62,
   "id": "8aeba4b0-922c-45f2-beb0-8fa6ce302c11",
   "metadata": {},
   "outputs": [
    {
     "data": {
      "text/html": [
       "<div>\n",
       "<style scoped>\n",
       "    .dataframe tbody tr th:only-of-type {\n",
       "        vertical-align: middle;\n",
       "    }\n",
       "\n",
       "    .dataframe tbody tr th {\n",
       "        vertical-align: top;\n",
       "    }\n",
       "\n",
       "    .dataframe thead th {\n",
       "        text-align: right;\n",
       "    }\n",
       "</style>\n",
       "<table border=\"1\" class=\"dataframe\">\n",
       "  <thead>\n",
       "    <tr style=\"text-align: right;\">\n",
       "      <th></th>\n",
       "      <th>Age</th>\n",
       "      <th>Gender</th>\n",
       "      <th>Avg_Daily_Screen_Time_hr</th>\n",
       "      <th>Primary_Device</th>\n",
       "      <th>Educational_to_Recreational_Ratio</th>\n",
       "      <th>Health_Impacts</th>\n",
       "      <th>Urban_or_Rural</th>\n",
       "    </tr>\n",
       "  </thead>\n",
       "  <tbody>\n",
       "    <tr>\n",
       "      <th>6223</th>\n",
       "      <td>8</td>\n",
       "      <td>1</td>\n",
       "      <td>349</td>\n",
       "      <td>1</td>\n",
       "      <td>13</td>\n",
       "      <td>7</td>\n",
       "      <td>1</td>\n",
       "    </tr>\n",
       "    <tr>\n",
       "      <th>6907</th>\n",
       "      <td>1</td>\n",
       "      <td>0</td>\n",
       "      <td>592</td>\n",
       "      <td>1</td>\n",
       "      <td>14</td>\n",
       "      <td>2</td>\n",
       "      <td>1</td>\n",
       "    </tr>\n",
       "    <tr>\n",
       "      <th>5122</th>\n",
       "      <td>6</td>\n",
       "      <td>1</td>\n",
       "      <td>610</td>\n",
       "      <td>1</td>\n",
       "      <td>13</td>\n",
       "      <td>8</td>\n",
       "      <td>1</td>\n",
       "    </tr>\n",
       "    <tr>\n",
       "      <th>5141</th>\n",
       "      <td>10</td>\n",
       "      <td>0</td>\n",
       "      <td>333</td>\n",
       "      <td>0</td>\n",
       "      <td>3</td>\n",
       "      <td>7</td>\n",
       "      <td>1</td>\n",
       "    </tr>\n",
       "    <tr>\n",
       "      <th>4584</th>\n",
       "      <td>3</td>\n",
       "      <td>0</td>\n",
       "      <td>419</td>\n",
       "      <td>2</td>\n",
       "      <td>14</td>\n",
       "      <td>8</td>\n",
       "      <td>1</td>\n",
       "    </tr>\n",
       "    <tr>\n",
       "      <th>...</th>\n",
       "      <td>...</td>\n",
       "      <td>...</td>\n",
       "      <td>...</td>\n",
       "      <td>...</td>\n",
       "      <td>...</td>\n",
       "      <td>...</td>\n",
       "      <td>...</td>\n",
       "    </tr>\n",
       "    <tr>\n",
       "      <th>5915</th>\n",
       "      <td>4</td>\n",
       "      <td>0</td>\n",
       "      <td>638</td>\n",
       "      <td>1</td>\n",
       "      <td>3</td>\n",
       "      <td>0</td>\n",
       "      <td>1</td>\n",
       "    </tr>\n",
       "    <tr>\n",
       "      <th>150</th>\n",
       "      <td>3</td>\n",
       "      <td>0</td>\n",
       "      <td>578</td>\n",
       "      <td>1</td>\n",
       "      <td>20</td>\n",
       "      <td>7</td>\n",
       "      <td>1</td>\n",
       "    </tr>\n",
       "    <tr>\n",
       "      <th>2935</th>\n",
       "      <td>3</td>\n",
       "      <td>1</td>\n",
       "      <td>476</td>\n",
       "      <td>1</td>\n",
       "      <td>18</td>\n",
       "      <td>7</td>\n",
       "      <td>1</td>\n",
       "    </tr>\n",
       "    <tr>\n",
       "      <th>2125</th>\n",
       "      <td>8</td>\n",
       "      <td>1</td>\n",
       "      <td>385</td>\n",
       "      <td>0</td>\n",
       "      <td>8</td>\n",
       "      <td>5</td>\n",
       "      <td>1</td>\n",
       "    </tr>\n",
       "    <tr>\n",
       "      <th>1752</th>\n",
       "      <td>5</td>\n",
       "      <td>1</td>\n",
       "      <td>543</td>\n",
       "      <td>3</td>\n",
       "      <td>11</td>\n",
       "      <td>7</td>\n",
       "      <td>0</td>\n",
       "    </tr>\n",
       "  </tbody>\n",
       "</table>\n",
       "<p>2428 rows × 7 columns</p>\n",
       "</div>"
      ],
      "text/plain": [
       "      Age  Gender  Avg_Daily_Screen_Time_hr  Primary_Device  \\\n",
       "6223    8       1                       349               1   \n",
       "6907    1       0                       592               1   \n",
       "5122    6       1                       610               1   \n",
       "5141   10       0                       333               0   \n",
       "4584    3       0                       419               2   \n",
       "...   ...     ...                       ...             ...   \n",
       "5915    4       0                       638               1   \n",
       "150     3       0                       578               1   \n",
       "2935    3       1                       476               1   \n",
       "2125    8       1                       385               0   \n",
       "1752    5       1                       543               3   \n",
       "\n",
       "      Educational_to_Recreational_Ratio  Health_Impacts  Urban_or_Rural  \n",
       "6223                                 13               7               1  \n",
       "6907                                 14               2               1  \n",
       "5122                                 13               8               1  \n",
       "5141                                  3               7               1  \n",
       "4584                                 14               8               1  \n",
       "...                                 ...             ...             ...  \n",
       "5915                                  3               0               1  \n",
       "150                                  20               7               1  \n",
       "2935                                 18               7               1  \n",
       "2125                                  8               5               1  \n",
       "1752                                 11               7               0  \n",
       "\n",
       "[2428 rows x 7 columns]"
      ]
     },
     "execution_count": 62,
     "metadata": {},
     "output_type": "execute_result"
    }
   ],
   "source": [
    "x_test"
   ]
  },
  {
   "cell_type": "code",
   "execution_count": 64,
   "id": "04919828-387c-4490-897e-19427d1cd777",
   "metadata": {},
   "outputs": [
    {
     "data": {
      "text/plain": [
       "2032    1\n",
       "5135    1\n",
       "3644    1\n",
       "4592    1\n",
       "173     1\n",
       "       ..\n",
       "9172    1\n",
       "8647    0\n",
       "5775    1\n",
       "2780    1\n",
       "5739    0\n",
       "Name: Exceeded_Recommended_Limit, Length: 7284, dtype: int64"
      ]
     },
     "execution_count": 64,
     "metadata": {},
     "output_type": "execute_result"
    }
   ],
   "source": [
    "y_train"
   ]
  },
  {
   "cell_type": "code",
   "execution_count": 66,
   "id": "511abafb-e275-47fa-9369-e3f7482aedb6",
   "metadata": {},
   "outputs": [
    {
     "data": {
      "text/plain": [
       "6223    1\n",
       "6907    1\n",
       "5122    1\n",
       "5141    1\n",
       "4584    1\n",
       "       ..\n",
       "5915    1\n",
       "150     1\n",
       "2935    1\n",
       "2125    1\n",
       "1752    1\n",
       "Name: Exceeded_Recommended_Limit, Length: 2428, dtype: int64"
      ]
     },
     "execution_count": 66,
     "metadata": {},
     "output_type": "execute_result"
    }
   ],
   "source": [
    "y_test\n"
   ]
  },
  {
   "cell_type": "markdown",
   "id": "53371dbd-4d5b-47a7-8de4-8611aed96639",
   "metadata": {},
   "source": [
    "**7.MODEL SELECTION & TRAINING**"
   ]
  },
  {
   "cell_type": "code",
   "execution_count": 72,
   "id": "2ca20cab-d17c-4d7f-9e08-b84b0ae0e251",
   "metadata": {},
   "outputs": [],
   "source": [
    "from sklearn.linear_model import LogisticRegression\n",
    "from sklearn.tree import DecisionTreeClassifier\n",
    "from sklearn.ensemble import RandomForestClassifier\n",
    "from sklearn.svm import SVC"
   ]
  },
  {
   "cell_type": "code",
   "execution_count": 74,
   "id": "2f6c35a3-cbeb-4f4a-8fe8-1faf1aaff72c",
   "metadata": {},
   "outputs": [],
   "source": [
    "models = {\n",
    "    \"Logistic Regression\": LogisticRegression(),\n",
    "    \"Decision Tree\": DecisionTreeClassifier(),\n",
    "    \"Random Forest\": RandomForestClassifier(),\n",
    "    \"SVC\": SVC()\n",
    "}"
   ]
  },
  {
   "cell_type": "markdown",
   "id": "f53b40fe-05c7-4fe7-b1b5-144aa871c3f8",
   "metadata": {},
   "source": [
    "**8.MODEL EVALUATION**"
   ]
  },
  {
   "cell_type": "code",
   "execution_count": 79,
   "id": "0f5372d7-3d23-4d09-8ef5-2edd8cf1497e",
   "metadata": {},
   "outputs": [],
   "source": [
    "from sklearn.metrics import accuracy_score,classification_report"
   ]
  },
  {
   "cell_type": "code",
   "execution_count": null,
   "id": "384947e0-3514-4891-bb56-7f1169353803",
   "metadata": {},
   "outputs": [
    {
     "name": "stderr",
     "output_type": "stream",
     "text": [
      "C:\\Users\\HP\\anaconda3\\Lib\\site-packages\\sklearn\\linear_model\\_logistic.py:469: ConvergenceWarning: lbfgs failed to converge (status=1):\n",
      "STOP: TOTAL NO. of ITERATIONS REACHED LIMIT.\n",
      "\n",
      "Increase the number of iterations (max_iter) or scale the data as shown in:\n",
      "    https://scikit-learn.org/stable/modules/preprocessing.html\n",
      "Please also refer to the documentation for alternative solver options:\n",
      "    https://scikit-learn.org/stable/modules/linear_model.html#logistic-regression\n",
      "  n_iter_i = _check_optimize_result(\n"
     ]
    },
    {
     "name": "stdout",
     "output_type": "stream",
     "text": [
      "Logistic Regression: Accuracy = 0.9712\n",
      "Decision Tree: Accuracy = 1.0000\n",
      "Random Forest: Accuracy = 1.0000\n"
     ]
    }
   ],
   "source": [
    "results = {}\n",
    "\n",
    "for name, model in models.items():\n",
    "    model.fit(x_train, y_train)\n",
    "    y_pred = model.predict(x_test)\n",
    "    acc = accuracy_score(y_test, y_pred)\n",
    "    results[name] = acc\n",
    "    print(f\"{name}: Accuracy = {acc:.4f}\")"
   ]
  },
  {
   "cell_type": "code",
   "execution_count": 165,
   "id": "31b49173-a1bc-4369-a4a4-dd2828aa518b",
   "metadata": {},
   "outputs": [
    {
     "name": "stdout",
     "output_type": "stream",
     "text": [
      "\n",
      "📊 Model: Logistic Regression\n",
      "🧾 Classification Report:\n",
      "              precision    recall  f1-score   support\n",
      "\n",
      "Not Exceeded       0.94      0.91      0.92       345\n",
      "    Exceeded       0.98      0.99      0.99      2083\n",
      "\n",
      "    accuracy                           0.98      2428\n",
      "   macro avg       0.96      0.95      0.95      2428\n",
      "weighted avg       0.98      0.98      0.98      2428\n",
      "\n",
      "\n",
      "📊 Model: Decision Tree\n",
      "🧾 Classification Report:\n",
      "              precision    recall  f1-score   support\n",
      "\n",
      "Not Exceeded       1.00      1.00      1.00       345\n",
      "    Exceeded       1.00      1.00      1.00      2083\n",
      "\n",
      "    accuracy                           1.00      2428\n",
      "   macro avg       1.00      1.00      1.00      2428\n",
      "weighted avg       1.00      1.00      1.00      2428\n",
      "\n",
      "\n",
      "📊 Model: Random Forest\n",
      "🧾 Classification Report:\n",
      "              precision    recall  f1-score   support\n",
      "\n",
      "Not Exceeded       1.00      1.00      1.00       345\n",
      "    Exceeded       1.00      1.00      1.00      2083\n",
      "\n",
      "    accuracy                           1.00      2428\n",
      "   macro avg       1.00      1.00      1.00      2428\n",
      "weighted avg       1.00      1.00      1.00      2428\n",
      "\n",
      "\n",
      "📊 Model: SVC\n",
      "🧾 Classification Report:\n",
      "              precision    recall  f1-score   support\n",
      "\n",
      "Not Exceeded       0.88      0.85      0.87       345\n",
      "    Exceeded       0.98      0.98      0.98      2083\n",
      "\n",
      "    accuracy                           0.96      2428\n",
      "   macro avg       0.93      0.92      0.92      2428\n",
      "weighted avg       0.96      0.96      0.96      2428\n",
      "\n"
     ]
    }
   ],
   "source": [
    "from sklearn.metrics import classification_report\n",
    "\n",
    "# 🧪 Evaluate all models with classification report\n",
    "for name, model in models.items():\n",
    "    print(f\"\\n📊 Model: {name}\")\n",
    "    \n",
    "    # Predict on test data\n",
    "    y_pred = model.predict(x_test)\n",
    "    \n",
    "    # Print classification report\n",
    "    print(\"🧾 Classification Report:\")\n",
    "    print(classification_report(y_test, y_pred, target_names=[\"Not Exceeded\", \"Exceeded\"]))\n"
   ]
  },
  {
   "cell_type": "markdown",
   "id": "1f61e07e-5e6f-4fe6-92f5-c140443058ed",
   "metadata": {},
   "source": [
    "**9.MODEL COMPARISION**"
   ]
  },
  {
   "cell_type": "code",
   "execution_count": 159,
   "id": "0f5e946e-b400-4ef5-9d5d-690974b1d265",
   "metadata": {},
   "outputs": [
    {
     "name": "stdout",
     "output_type": "stream",
     "text": [
      "\n",
      "🏆 Best Performing Model: Decision Tree\n",
      "🎯 Highest Accuracy: 1.0000\n"
     ]
    }
   ],
   "source": [
    "best_model = max(results, key=results.get)\n",
    "print(\"\\n🏆 Best Performing Model:\", best_model)\n",
    "print(f\"🎯 Highest Accuracy: {results[best_model]:.4f}\")"
   ]
  },
  {
   "cell_type": "code",
   "execution_count": 161,
   "id": "989d8e4e-9ccc-44a1-967b-f1b53e21517f",
   "metadata": {},
   "outputs": [
    {
     "name": "stderr",
     "output_type": "stream",
     "text": [
      "C:\\Users\\HP\\AppData\\Local\\Temp\\ipykernel_6356\\2004147185.py:9: FutureWarning: \n",
      "\n",
      "Passing `palette` without assigning `hue` is deprecated and will be removed in v0.14.0. Assign the `x` variable to `hue` and set `legend=False` for the same effect.\n",
      "\n",
      "  sns.barplot(data=results_df, x='Model', y='Accuracy', palette='Set2')\n"
     ]
    },
    {
     "data": {
      "image/png": "[encoded data removed]",
      "text/plain": [
       "<Figure size 800x500 with 1 Axes>"
      ]
     },
     "metadata": {},
     "output_type": "display_data"
    }
   ],
   "source": [
    "import matplotlib.pyplot as plt\n",
    "import seaborn as sns\n",
    "\n",
    "# Create DataFrame from results dictionary\n",
    "results_df = pd.DataFrame(list(results.items()), columns=['Model', 'Accuracy'])\n",
    "\n",
    "# Plot bar graph\n",
    "plt.figure(figsize=(8, 5))\n",
    "sns.barplot(data=results_df, x='Model', y='Accuracy', palette='Set2')\n",
    "plt.ylim(0, 1)  # Accuracy is between 0 and 1\n",
    "plt.title('Accuracy Comparison of Classification Models')\n",
    "plt.xlabel('Model')\n",
    "plt.ylabel('Accuracy')\n",
    "plt.xticks(rotation=20)\n",
    "plt.grid(True, axis='y', linestyle='--', alpha=0.7)\n",
    "plt.tight_layout()\n",
    "plt.show()\n"
   ]
  },
  {
   "cell_type": "markdown",
   "id": "8d97de2d-74ed-48a0-9978-fabf1b64e1c2",
   "metadata": {},
   "source": [
    "**10.CONCLUSION**"
   ]
  },
  {
   "cell_type": "markdown",
   "id": "54299be2-93da-46ad-8b93-02ee6ab40630",
   "metadata": {},
   "source": [
    "This project successfully demonstrates the use of machine learning models to predict whether individuals exceed the recommended daily screen time limit based on demographic and behavioral data. By analyzing features such as age, gender, primary device, educational-to-recreational screen time ratio, and location, we were able to build and evaluate multiple classification models.\n",
    "\n",
    "Among all models tested — Logistic Regression, Decision Tree, Random Forest, and SVC — the Random Forest Classifier showed the highest accuracy and overall performance, making it the most effective model for this classification task.\n",
    "\n",
    "The project also revealed meaningful insights, such as:\n",
    "\n",
    "Younger users and smartphone users are more likely to exceed safe screen time.\n",
    "\n",
    "Urban users tend to have higher screen time than rural users.\n",
    "\n",
    "Educational-to-recreational usage ratio is a strong indicator of healthy vs. excessive usage.\n",
    "\n",
    "These findings can help parents, educators, and healthcare professionals identify at-risk individuals early and promote healthier digital habits.\n",
    "\n"
   ]
  },
  {
   "cell_type": "code",
   "execution_count": null,
   "id": "0e16e6da-2539-48ed-9306-e88c6d93caf1",
   "metadata": {},
   "outputs": [],
   "source": []
  }
 ],
 "metadata": {
  "kernelspec": {
   "display_name": "Python 3 (ipykernel)",
   "language": "python",
   "name": "python3"
  },
  "language_info": {
   "codemirror_mode": {
    "name": "ipython",
    "version": 3
   },
   "file_extension": ".py",
   "mimetype": "text/x-python",
   "name": "python",
   "nbconvert_exporter": "python",
   "pygments_lexer": "ipython3",
   "version": "3.12.7"
  }
 },
 "nbformat": 4,
 "nbformat_minor": 5
}
